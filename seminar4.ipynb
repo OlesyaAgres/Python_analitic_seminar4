{
 "cells": [
  {
   "cell_type": "markdown",
   "metadata": {},
   "source": [
    "Урок 4. Визуальный анализ данных"
   ]
  },
  {
   "cell_type": "markdown",
   "metadata": {},
   "source": [
    "Условие 1: Задача 1\n",
    "- Постройте график\n",
    "- Назовите график\n",
    "- Сделайте именование оси x и оси y\n",
    "- Сделайте выводы"
   ]
  },
  {
   "cell_type": "markdown",
   "metadata": {},
   "source": [
    "1.1. Скачать следующие данные: kc-house-data и laptop_price\n",
    "\n",
    "\n",
    "1.2. Изучите стоимости недвижимости\n",
    "\n",
    "\n",
    "1.3. Изучите распределение квадратуры жилой\n",
    "\n",
    "\n",
    "1.4. Изучите распределение года постройки"
   ]
  },
  {
   "cell_type": "markdown",
   "metadata": {},
   "source": [
    "Условие 2: 2 задача\n",
    "\n",
    "\n",
    "2.1. Изучите распределение домов от наличия вида на набережную\n",
    "\n",
    "\n",
    "Постройте график\n",
    "\n",
    "\n",
    "Сделайте выводы\n",
    "\n",
    "\n",
    "2.2. Изучите распределение этажей домов\n",
    "\n",
    "\n",
    "2.3. Изучите распределение состояния домов\n",
    "\n"
   ]
  },
  {
   "cell_type": "markdown",
   "metadata": {},
   "source": [
    "\n",
    "Условие 3: 3 задача\n",
    "\n",
    "\n",
    "Исследуйте, какие характеристики недвижимости влияют на стоимость недвижимости, с применением не менее 5 диаграмм из урока.\n",
    "\n",
    "\n",
    "Анализ сделайте в формате storytelling: дополнить каждый график письменными выводами и наблюдениями."
   ]
  }
 ],
 "metadata": {
  "kernelspec": {
   "display_name": "Python 3",
   "language": "python",
   "name": "python3"
  },
  "language_info": {
   "codemirror_mode": {
    "name": "ipython",
    "version": 3
   },
   "file_extension": ".py",
   "mimetype": "text/x-python",
   "name": "python",
   "nbconvert_exporter": "python",
   "pygments_lexer": "ipython3",
   "version": "3.11.5"
  },
  "orig_nbformat": 4
 },
 "nbformat": 4,
 "nbformat_minor": 2
}
